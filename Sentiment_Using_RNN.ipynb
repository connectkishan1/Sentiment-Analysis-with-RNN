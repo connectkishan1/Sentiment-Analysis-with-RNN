{
  "nbformat": 4,
  "nbformat_minor": 0,
  "metadata": {
    "colab": {
      "name": "Sentiment Using RNN.ipynb",
      "provenance": [],
      "collapsed_sections": [],
      "toc_visible": true,
      "mount_file_id": "1k9-wdHqMJFF4CMAFoOGsFMcbSIW2Mc73",
      "authorship_tag": "ABX9TyO71rqzBnE7zL3S+cgip3mN",
      "include_colab_link": true
    },
    "kernelspec": {
      "name": "python3",
      "display_name": "Python 3"
    },
    "accelerator": "GPU"
  },
  "cells": [
    {
      "cell_type": "markdown",
      "metadata": {
        "id": "view-in-github",
        "colab_type": "text"
      },
      "source": [
        "<a href=\"https://colab.research.google.com/github/connectkishan1/Sentiment-Analysis-with-RNN/blob/master/Sentiment_Using_RNN.ipynb\" target=\"_parent\"><img src=\"https://colab.research.google.com/assets/colab-badge.svg\" alt=\"Open In Colab\"/></a>"
      ]
    },
    {
      "cell_type": "markdown",
      "metadata": {
        "id": "E7FE4nXG4I-9",
        "colab_type": "text"
      },
      "source": [
        "#importing Library & Loading Dataset\n"
      ]
    },
    {
      "cell_type": "code",
      "metadata": {
        "id": "0vpuCqEQoZQ5",
        "colab_type": "code",
        "colab": {
          "base_uri": "https://localhost:8080/",
          "height": 221
        },
        "outputId": "755565bf-a3d1-4466-948b-6238b2c673a6"
      },
      "source": [
        "import pandas as pd\n",
        "df=pd.read_csv(\"/content/drive/My Drive/Dataset/sentiment.csv\")\n",
        "print(\"shape of df::\",df.shape)\n",
        "df.head()"
      ],
      "execution_count": 2,
      "outputs": [
        {
          "output_type": "stream",
          "text": [
            "shape of df:: (31962, 3)\n"
          ],
          "name": "stdout"
        },
        {
          "output_type": "execute_result",
          "data": {
            "text/html": [
              "<div>\n",
              "<style scoped>\n",
              "    .dataframe tbody tr th:only-of-type {\n",
              "        vertical-align: middle;\n",
              "    }\n",
              "\n",
              "    .dataframe tbody tr th {\n",
              "        vertical-align: top;\n",
              "    }\n",
              "\n",
              "    .dataframe thead th {\n",
              "        text-align: right;\n",
              "    }\n",
              "</style>\n",
              "<table border=\"1\" class=\"dataframe\">\n",
              "  <thead>\n",
              "    <tr style=\"text-align: right;\">\n",
              "      <th></th>\n",
              "      <th>id</th>\n",
              "      <th>label</th>\n",
              "      <th>tweet</th>\n",
              "    </tr>\n",
              "  </thead>\n",
              "  <tbody>\n",
              "    <tr>\n",
              "      <th>0</th>\n",
              "      <td>1</td>\n",
              "      <td>0</td>\n",
              "      <td>@user when a father is dysfunctional and is s...</td>\n",
              "    </tr>\n",
              "    <tr>\n",
              "      <th>1</th>\n",
              "      <td>2</td>\n",
              "      <td>0</td>\n",
              "      <td>@user @user thanks for #lyft credit i can't us...</td>\n",
              "    </tr>\n",
              "    <tr>\n",
              "      <th>2</th>\n",
              "      <td>3</td>\n",
              "      <td>0</td>\n",
              "      <td>bihday your majesty</td>\n",
              "    </tr>\n",
              "    <tr>\n",
              "      <th>3</th>\n",
              "      <td>4</td>\n",
              "      <td>0</td>\n",
              "      <td>#model   i love u take with u all the time in ...</td>\n",
              "    </tr>\n",
              "    <tr>\n",
              "      <th>4</th>\n",
              "      <td>5</td>\n",
              "      <td>0</td>\n",
              "      <td>factsguide: society now    #motivation</td>\n",
              "    </tr>\n",
              "  </tbody>\n",
              "</table>\n",
              "</div>"
            ],
            "text/plain": [
              "   id  label                                              tweet\n",
              "0   1      0   @user when a father is dysfunctional and is s...\n",
              "1   2      0  @user @user thanks for #lyft credit i can't us...\n",
              "2   3      0                                bihday your majesty\n",
              "3   4      0  #model   i love u take with u all the time in ...\n",
              "4   5      0             factsguide: society now    #motivation"
            ]
          },
          "metadata": {
            "tags": []
          },
          "execution_count": 2
        }
      ]
    },
    {
      "cell_type": "markdown",
      "metadata": {
        "id": "UhxwH8s54OqV",
        "colab_type": "text"
      },
      "source": [
        "#Data preprations"
      ]
    },
    {
      "cell_type": "code",
      "metadata": {
        "id": "k8mqMJQglBrh",
        "colab_type": "code",
        "colab": {
          "base_uri": "https://localhost:8080/",
          "height": 255
        },
        "outputId": "02d73e20-faff-4c97-a1d5-0515e2b32f66"
      },
      "source": [
        "input1=df['tweet'] #tweet SUBDF taken as input from df & passes to input1\n",
        "output1=df['label'] #label SUBDF taken as Output from df & passes to output1\n",
        "print(\"input1 shape::\",input1.shape)\n",
        "print(\"print input1...\\n \",input1)"
      ],
      "execution_count": null,
      "outputs": [
        {
          "output_type": "stream",
          "text": [
            "input1 shape:: (31962,)\n",
            "print input1...\n",
            "  0         @user when a father is dysfunctional and is s...\n",
            "1        @user @user thanks for #lyft credit i can't us...\n",
            "2                                      bihday your majesty\n",
            "3        #model   i love u take with u all the time in ...\n",
            "4                   factsguide: society now    #motivation\n",
            "                               ...                        \n",
            "31957    ate @user isz that youuu?ðððððð...\n",
            "31958      to see nina turner on the airwaves trying to...\n",
            "31959    listening to sad songs on a monday morning otw...\n",
            "31960    @user #sikh #temple vandalised in in #calgary,...\n",
            "31961                     thank you @user for you follow  \n",
            "Name: tweet, Length: 31962, dtype: object\n"
          ],
          "name": "stdout"
        }
      ]
    },
    {
      "cell_type": "code",
      "metadata": {
        "id": "-UYWS-vb2Egt",
        "colab_type": "code",
        "colab": {
          "base_uri": "https://localhost:8080/",
          "height": 255
        },
        "outputId": "9d5987e8-1502-4de8-8378-7e59c780ec9d"
      },
      "source": [
        "#taking only words from input1 & passing to input2\n",
        "input2=input1.replace(\"\\W\",\" \",regex=True)\n",
        "\n",
        "print(\"input2 contains words only::\\n\\n\",input2)"
      ],
      "execution_count": null,
      "outputs": [
        {
          "output_type": "stream",
          "text": [
            "input2 contains words only::\n",
            "\n",
            " 0          user when a father is dysfunctional and is s...\n",
            "1         user  user thanks for  lyft credit i can t us...\n",
            "2                                      bihday your majesty\n",
            "3         model   i love u take with u all the time in ...\n",
            "4                   factsguide  society now     motivation\n",
            "                               ...                        \n",
            "31957    ate  user isz that youuu ð   ð   ð   ð   ð   ð...\n",
            "31958      to see nina turner on the airwaves trying to...\n",
            "31959    listening to sad songs on a monday morning otw...\n",
            "31960     user  sikh  temple vandalised in in  calgary ...\n",
            "31961                     thank you  user for you follow  \n",
            "Name: tweet, Length: 31962, dtype: object\n"
          ],
          "name": "stdout"
        }
      ]
    },
    {
      "cell_type": "code",
      "metadata": {
        "id": "DlU2iW0DolF5",
        "colab_type": "code",
        "colab": {}
      },
      "source": [
        "#This class allows to vectorize a text corpus, \n",
        "#by turning each text into either a sequence of integers (each integer being the index of a token in a dictionary) or into a vector.\n",
        "from tensorflow.keras.preprocessing.text import Tokenizer\n",
        "\n",
        "#num_words: the maximum number of words to keep,\n",
        "#based on word frequency. Only the most common `num_words-1` words will be kept.\n",
        "max_words=5000\n",
        "tokenizer_obj = Tokenizer(num_words=max_words)\n",
        "\n",
        "#Updates internal vocabulary based on a list of texts.\n",
        "#In the case where texts contains lists, we assume each entry of the lists to be a token\n",
        "#Required before using texts_to_sequences or texts_to_matrix.\n",
        "tokenizer_obj.fit_on_texts(input2) \n"
      ],
      "execution_count": null,
      "outputs": []
    },
    {
      "cell_type": "code",
      "metadata": {
        "id": "m9wHRPbTB_tW",
        "colab_type": "code",
        "colab": {
          "base_uri": "https://localhost:8080/",
          "height": 51
        },
        "outputId": "96a8b638-c1db-413e-b909-6a62d7ab0267"
      },
      "source": [
        "#Split arrays or matrices into random train and test subsets\n",
        "from sklearn.model_selection import train_test_split\n",
        "input2_train, input2_test, output1_train, output1_test = train_test_split(input2, output1, test_size=0.30)\n",
        "\n",
        "#Only top num_words-1 most frequent words will be taken into account.\n",
        "#Only words known by the tokenizer will be taken into account.\n",
        "input3_train = tokenizer_obj.texts_to_sequences(input2_train) \n",
        "input3_test = tokenizer_obj.texts_to_sequences(input2_test)\n",
        "\n",
        "print(input3_train[2])\n",
        "print(input3_test[2])\n"
      ],
      "execution_count": null,
      "outputs": [
        {
          "output_type": "stream",
          "text": [
            "[1, 326, 3328, 68, 27, 110, 4, 252, 15, 52, 24, 16, 108, 68, 122, 2436, 3127, 170, 1322, 19, 223, 678, 207, 224]\n",
            "[175, 7, 1299, 11, 18, 23, 252, 97, 655]\n"
          ],
          "name": "stdout"
        }
      ]
    },
    {
      "cell_type": "code",
      "metadata": {
        "id": "-SnjejTVGNh6",
        "colab_type": "code",
        "colab": {
          "base_uri": "https://localhost:8080/",
          "height": 68
        },
        "outputId": "7c05f5cb-0ff6-4c1a-ae51-40a6ccf3aee4"
      },
      "source": [
        "import numpy as np\n",
        "\n",
        "input4_train =np.asarray(input3_train)\n",
        "input4_test =np.asarray(input3_test)\n",
        "\n",
        "print(\"input train shape::\",input4_train.shape)\n",
        "print(\"Shape of output2_train\",output1_train.shape)\n",
        "\n",
        "output2_train =np.asarray(output1_train)\n",
        "\n",
        "#output1_train=output1_train.to_numpy()\n",
        "output2_train_reshape =output2_train.reshape(output2_train.shape[0],1)\n",
        "print(\"Shape of output2_train_reshape::\",output2_train_reshape.shape)\n"
      ],
      "execution_count": null,
      "outputs": [
        {
          "output_type": "stream",
          "text": [
            "input train shape:: (22373,)\n",
            "Shape of output2_train (22373,)\n",
            "Shape of output2_train_reshape:: (22373, 1)\n"
          ],
          "name": "stdout"
        }
      ]
    },
    {
      "cell_type": "markdown",
      "metadata": {
        "id": "haUoh1drBlcD",
        "colab_type": "text"
      },
      "source": [
        "Data preprocessing"
      ]
    },
    {
      "cell_type": "code",
      "metadata": {
        "id": "xmGrfqWiIgIN",
        "colab_type": "code",
        "colab": {
          "base_uri": "https://localhost:8080/",
          "height": 85
        },
        "outputId": "cad9fdc1-1957-4b7a-842a-74cbed56310c"
      },
      "source": [
        "from keras.preprocessing import sequence\n",
        "\n",
        "maxlen=30\n",
        "\n",
        "#sequence.pad_sequences-This function transforms a list of num_samples sequences (lists of integers) into a 2D Numpy array of shape (num_samples, num_timesteps).\n",
        "#num_timesteps is either the maxlen argument if provided, or the length of the longest sequence otherwise.\n",
        "x_train = sequence.pad_sequences(input4_train, maxlen=maxlen)\n",
        "x_test = sequence.pad_sequences(input4_test, maxlen=maxlen)\n",
        "\n",
        "print(x_train[1])\n",
        "print(\"shape of x_train::\",x_train.shape)"
      ],
      "execution_count": null,
      "outputs": [
        {
          "output_type": "stream",
          "text": [
            "[   0    0    0    0    0    0    0    0    0    0    0    0    0    0\n",
            "    0    3 1816  530   12   24   61 4780   22  722  460   62  190    1\n",
            " 3427 1738]\n",
            "shape of x_train:: (22373, 30)\n"
          ],
          "name": "stdout"
        }
      ]
    },
    {
      "cell_type": "markdown",
      "metadata": {
        "id": "qRy5D5zq1oSX",
        "colab_type": "text"
      },
      "source": [
        "# RNN Mode"
      ]
    },
    {
      "cell_type": "code",
      "metadata": {
        "id": "wv_n9mUQLJMJ",
        "colab_type": "code",
        "colab": {
          "base_uri": "https://localhost:8080/",
          "height": 272
        },
        "outputId": "f6a4f833-f26a-4195-8695-266544b9f5da"
      },
      "source": [
        "from keras.models import Sequential\n",
        "from keras.layers import Embedding,LSTM\n",
        "from keras.layers import GRU,Dense,Dropout\n",
        "#from keras.layers import  recurrent_dropout\n",
        "\n",
        "#all the adding related to sequential\n",
        "#Optionally, the first layer can receive an `input_shape` argument:\n",
        "model = Sequential()\n",
        "\"\"\"EMBEDDING:-\n",
        "extracting the unique set of words\n",
        "This layer can only be used as the first layer in a model.\n",
        "Turns positive integers (indexes) into dense vectors of fixed size\"\"\"\n",
        "model.add(Embedding(5000, 128, input_length=30))\n",
        "\n",
        "\n",
        "model.add(LSTM(128, dropout=0.2,recurrent_dropout=0.2))\n",
        "\n",
        "#model.add(GRU(128, dropout=0.2, recurrent_dropout=0.2))\n",
        "\n",
        "#last layer will be dense t.e output\n",
        "model.add(Dense(1, activation='sigmoid'))\n",
        "\n",
        "#try using different optimizers and different optimizer configs\n",
        "\n",
        "\n",
        "#Compile the Keras model to configure the training process:\n",
        "#metrics_names-Returns the model's display labels for all outputs.\n",
        "model.compile(loss='binary_crossentropy', optimizer='adam', metrics=['accuracy'])\n",
        "\n",
        "print(model.summary())"
      ],
      "execution_count": null,
      "outputs": [
        {
          "output_type": "stream",
          "text": [
            "Model: \"sequential_2\"\n",
            "_________________________________________________________________\n",
            "Layer (type)                 Output Shape              Param #   \n",
            "=================================================================\n",
            "embedding_2 (Embedding)      (None, 30, 128)           640000    \n",
            "_________________________________________________________________\n",
            "lstm_2 (LSTM)                (None, 128)               131584    \n",
            "_________________________________________________________________\n",
            "dense_2 (Dense)              (None, 1)                 129       \n",
            "=================================================================\n",
            "Total params: 771,713\n",
            "Trainable params: 771,713\n",
            "Non-trainable params: 0\n",
            "_________________________________________________________________\n",
            "None\n"
          ],
          "name": "stdout"
        }
      ]
    },
    {
      "cell_type": "markdown",
      "metadata": {
        "id": "QrIHK0FnNg4L",
        "colab_type": "text"
      },
      "source": [
        "*Accuracy*-96%    *Loss*-0.12 batch_size=300, epochs=2\n",
        "\n",
        "model.add(Embedding(15000, 128, input_length=100))\n",
        "model.add(LSTM(128, dropout=0.2,recurrent_dropout=0.2))\n",
        "\n",
        "*Accuracy*-96%    *Loss*-0.12  batch_size=300, epochs=2\n",
        "\n",
        "model.add(Embedding(15000, 128, input_length=100))\n",
        "model.add(GRU(128, dropout=0.2, recurrent_dropout=0.2))\n",
        "\n",
        "*Accuracy*-96%    *Loss*-0.12  batch_size=300, epochs=2\n",
        "\n",
        "model.add(Embedding(5000, 128, input_length=100))\n",
        "model.add(GRU(128, dropout=0.2, recurrent_dropout=0.2))\n",
        "\n",
        "*Accuracy*-96%    *Loss*-0.12  batch_size=300, epochs=2\n",
        "\n",
        "model.add(Embedding(5000, 128, input_length=30))\n",
        "model.add(GRU(128, dropout=0.2, recurrent_dropout=0.2))\n",
        "\n",
        "*Accuracy*-95%    *Loss*-0.23  batch_size=30, epochs=10\n",
        "\n",
        "model.add(Embedding(5000, 128, input_length=30))\n",
        "model.add(GRU(128, dropout=0.2, recurrent_dropout=0.2))\n",
        "\n",
        "\n",
        "\n",
        "\n"
      ]
    },
    {
      "cell_type": "markdown",
      "metadata": {
        "id": "Pgdwvfm0NQm2",
        "colab_type": "text"
      },
      "source": [
        "# Model Training"
      ]
    },
    {
      "cell_type": "code",
      "metadata": {
        "id": "msyURLhGj-wZ",
        "colab_type": "code",
        "colab": {
          "base_uri": "https://localhost:8080/",
          "height": 374
        },
        "outputId": "56401c99-2df4-49e7-f3f9-59acad936a63"
      },
      "source": [
        "#This builds the model for the first time:\n",
        "\n",
        "history=model.fit(x_train,output2_train_reshape, verbose=1, batch_size=30, epochs=10,validation_split=0.10)\n"
      ],
      "execution_count": null,
      "outputs": [
        {
          "output_type": "stream",
          "text": [
            "Train on 20135 samples, validate on 2238 samples\n",
            "Epoch 1/10\n",
            "20135/20135 [==============================] - 39s 2ms/step - loss: 0.1739 - acc: 0.9435 - val_loss: 0.1350 - val_acc: 0.9531\n",
            "Epoch 2/10\n",
            "20135/20135 [==============================] - 37s 2ms/step - loss: 0.0931 - acc: 0.9684 - val_loss: 0.1247 - val_acc: 0.9558\n",
            "Epoch 3/10\n",
            "20135/20135 [==============================] - 37s 2ms/step - loss: 0.0677 - acc: 0.9767 - val_loss: 0.1346 - val_acc: 0.9504\n",
            "Epoch 4/10\n",
            "20135/20135 [==============================] - 37s 2ms/step - loss: 0.0516 - acc: 0.9819 - val_loss: 0.1450 - val_acc: 0.9544\n",
            "Epoch 5/10\n",
            "20135/20135 [==============================] - 36s 2ms/step - loss: 0.0359 - acc: 0.9885 - val_loss: 0.1609 - val_acc: 0.9500\n",
            "Epoch 6/10\n",
            "20135/20135 [==============================] - 36s 2ms/step - loss: 0.0277 - acc: 0.9911 - val_loss: 0.1825 - val_acc: 0.9517\n",
            "Epoch 7/10\n",
            "20135/20135 [==============================] - 36s 2ms/step - loss: 0.0201 - acc: 0.9933 - val_loss: 0.2232 - val_acc: 0.9508\n",
            "Epoch 8/10\n",
            "20135/20135 [==============================] - 36s 2ms/step - loss: 0.0164 - acc: 0.9945 - val_loss: 0.2376 - val_acc: 0.9486\n",
            "Epoch 9/10\n",
            "20135/20135 [==============================] - 36s 2ms/step - loss: 0.0119 - acc: 0.9964 - val_loss: 0.3069 - val_acc: 0.9450\n",
            "Epoch 10/10\n",
            "20135/20135 [==============================] - 36s 2ms/step - loss: 0.0116 - acc: 0.9961 - val_loss: 0.2909 - val_acc: 0.9468\n"
          ],
          "name": "stdout"
        }
      ]
    },
    {
      "cell_type": "code",
      "metadata": {
        "id": "7UK-5Lud9jUJ",
        "colab_type": "code",
        "colab": {
          "base_uri": "https://localhost:8080/",
          "height": 295
        },
        "outputId": "41da5c2a-0422-4ef1-d798-ebab7d1ef140"
      },
      "source": [
        "#VALIDATION ACCURACY curves\n",
        "import matplotlib.pyplot as plt\n",
        "plt.clf()\n",
        "acc_values = history.history['acc']\n",
        "val_acc_values = history.history['val_acc']\n",
        "epochs = range(1, (len(history.history['acc']) + 1))\n",
        "plt.plot(epochs, acc_values, 'g', label='Training ')\n",
        "plt.plot(epochs, val_acc_values, 'b', label='Validation acc')\n",
        "plt.title('Training and validation accuracy')\n",
        "plt.xlabel('Epochs')\n",
        "plt.ylabel('Accuracy')\n",
        "plt.legend()\n",
        "plt.show()"
      ],
      "execution_count": null,
      "outputs": [
        {
          "output_type": "display_data",
          "data": {
            "image/png": "[encoded data removed]",
            "text/plain": [
              "<Figure size 432x288 with 1 Axes>"
            ]
          },
          "metadata": {
            "tags": []
          }
        }
      ]
    },
    {
      "cell_type": "markdown",
      "metadata": {
        "id": "VsbuImXp8Iga",
        "colab_type": "text"
      },
      "source": [
        "# Evaluation"
      ]
    },
    {
      "cell_type": "code",
      "metadata": {
        "id": "9cAigWZonpmw",
        "colab_type": "code",
        "colab": {
          "base_uri": "https://localhost:8080/",
          "height": 68
        },
        "outputId": "6c5bb7a5-88d5-4b17-cfbc-006b20d303d3"
      },
      "source": [
        "loss, acc = model.evaluate(x_test, output1_test, batch_size=30)\n",
        "print('Test Error:', loss)\n",
        "print('Test accuracy:', acc)"
      ],
      "execution_count": null,
      "outputs": [
        {
          "output_type": "stream",
          "text": [
            "9589/9589 [==============================] - 6s 594us/step\n",
            "Test Error: 0.30478128577790004\n",
            "Test accuracy: 0.9478569083224249\n"
          ],
          "name": "stdout"
        }
      ]
    },
    {
      "cell_type": "markdown",
      "metadata": {
        "id": "9FvQSwr08Pqg",
        "colab_type": "text"
      },
      "source": [
        "# Prediction"
      ]
    },
    {
      "cell_type": "code",
      "metadata": {
        "id": "VD9yaTEMoxph",
        "colab_type": "code",
        "colab": {
          "base_uri": "https://localhost:8080/",
          "height": 136
        },
        "outputId": "e2fbe828-610e-49c8-b553-718b205ddda9"
      },
      "source": [
        "pred = model.predict_classes(x_test, verbose=0)\n",
        "print(pred)"
      ],
      "execution_count": null,
      "outputs": [
        {
          "output_type": "stream",
          "text": [
            "[[1]\n",
            " [0]\n",
            " [0]\n",
            " ...\n",
            " [0]\n",
            " [0]\n",
            " [0]]\n"
          ],
          "name": "stdout"
        }
      ]
    },
    {
      "cell_type": "markdown",
      "metadata": {
        "id": "ghTMf7XU8W5_",
        "colab_type": "text"
      },
      "source": [
        "# Confusion_matrix, Classification_report"
      ]
    },
    {
      "cell_type": "code",
      "metadata": {
        "id": "BfOTBL0QrZmO",
        "colab_type": "code",
        "colab": {
          "base_uri": "https://localhost:8080/",
          "height": 357
        },
        "outputId": "191edaea-7a4b-46f6-c0d3-45b7a96af9c5"
      },
      "source": [
        "from sklearn.metrics import confusion_matrix, classification_report\n",
        "print(\"\\n\\n\\nConfusion Matrix\")\n",
        "#labels=np.argmax(output1_test, axis=1)  #\n",
        "#print(labels.shape)\n",
        "print(pred.shape)\n",
        "print(confusion_matrix(output1_test,pred))\n",
        "\n",
        "print(\"\\n\\n\\nClassification Report\")\n",
        "print(classification_report(output1_test,pred))"
      ],
      "execution_count": null,
      "outputs": [
        {
          "output_type": "stream",
          "text": [
            "\n",
            "\n",
            "\n",
            "Confusion Matrix\n",
            "(9589, 1)\n",
            "[[8715  211]\n",
            " [ 289  374]]\n",
            "\n",
            "\n",
            "\n",
            "Classification Report\n",
            "              precision    recall  f1-score   support\n",
            "\n",
            "           0       0.97      0.98      0.97      8926\n",
            "           1       0.64      0.56      0.60       663\n",
            "\n",
            "    accuracy                           0.95      9589\n",
            "   macro avg       0.80      0.77      0.79      9589\n",
            "weighted avg       0.95      0.95      0.95      9589\n",
            "\n"
          ],
          "name": "stdout"
        }
      ]
    }
  ]
}